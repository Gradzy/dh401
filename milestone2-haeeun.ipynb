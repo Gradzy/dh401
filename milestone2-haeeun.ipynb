{
 "cells": [
  {
   "cell_type": "markdown",
   "metadata": {},
   "source": [
    "# Milestone2: Data gathering and preprocessing (deadline: 30/03 noon)\n",
    "The requirement for this milestone is an Jupyter notebook in which you present the data that you will be using for your project. It is not the exploratory analysis of the full data set, which is milestone 3. Rather, the idea is to prove--based on milestone 1 and on the feedback that you have received for it--a deepened reflection on your project goal (section 1) and to present technical details (sections 2 & 3). Submit your notebook to your git repository in a form, that all outputs are present, i.e. that we don't have to rerun the notebook."
   ]
  },
  {
   "cell_type": "markdown",
   "metadata": {},
   "source": [
    "## 1. Narrowing down the research question\n",
    "As discussed in the feedback session, your research question needs to be pinned down to one or several concrete and attainable goals. In the first section of the notebook please address the following points:\n",
    "\n",
    "Name your concrete questions and explain them briefly.\n",
    ": Rap -  important vocal artistry. Well-known rap genres : include pop, gangster, old school.. but there exists some culture-spefific or language-specific genres as well, such as 'trap' genre in french hiphop.\n",
    "\n",
    "Even though all those rap subgenres share common grounds, (general characteristics on rap music), intergenre difference is also significant.\n",
    "it reflect the assumed audience of the songs, the place it will be played (club? dance floor? or underground studio? or something else?) \n",
    "\n",
    "\n",
    "In some studies on rap, general idea of rhythmic onset/ history based approach/ has been analyzed. But still, the genre-specific characteristics are hightly deprecated.\n",
    "\n",
    "In our project, different rap genres. (phrasing? phrase length. flow length (break with rest), distribution of syllabic onsets lengths)\n",
    "we choose gangter and old school rap in anglophone data. Furthermore, we add trap genre of french rap, which will be encoded on our own. Trap genre - very distinct, and culture-specific. \n",
    "\n",
    "\n",
    "Analyse how these questions relate to your original idea, that is, in what way they narrow it down.\n",
    "\n",
    "\n",
    "Describe the dataset you selected and the information represented in it.\n",
    ": MCflow. rapscience.net (....) \n",
    "\n",
    "\n",
    "\n",
    "Discuss how the data enables you to answer your questions.\n",
    ": it contains syllabic onset, length, lyrics, measures, phrasal break, rhyme and stress.\n",
    "\n",
    "\n",
    "Formulate educated guesses on your outcomes based on this data.\n",
    ": songs from similar genres will show 'closer' distance and higher similarities towards songs from the same genre, compared to ones from another genre. Observe different distribution of the parameter we choose. \n",
    "\n",
    "\n",
    "Reason on how you can tell in the end whether these outcomes have manifested or not and how confident you will possibly be.\n",
    "\n",
    "\n",
    "\n",
    "\n",
    "There is no point in answering to these points one after another. Rather, your grade will partly be based on how well the structure of your text reveals and supports your reflection. (Hint: A good advice could be to draft concrete answers to every point and to then look at the full picture in order to design a compelling argumentative structure. Think about how a hypothetical reader can understand the text without already knowing what you want to say.)"
   ]
  },
  {
   "cell_type": "markdown",
   "metadata": {},
   "source": [
    "# Research Question\n",
    "Rap is a unique form of vocal artistry which straddles the boundary between song and poetry. Recently being prevalent not only in authentic Hip-Hop music, but in Pop music as well, rap has undoubtably become an imperative part of contemporary music. Having deemphasized pitch structures in favor of rhythmic and poetic structure, the sonic texture of rap music is highly related to the linguistics, such as rhymes, pronunciations, and phrasing. \n",
    "\n",
    "Several studies on rap music have already been done. In sociology and media studies, understanding rhetoric and code of rap music was one way to understand contemporary street culture, which is mainly done by semantically analyzing a small collection of rap lyrics. On the other hand, in computational musicology, some studies have come up with the computational definition of rhythmic rap flow as well as the way to encode them. However, not much work has been done on different rhythmic stress in rap music between languages, neither on small collection of dataset or large-scale dataset. \n",
    "\n",
    "In our study, we aim to compare the rhythmic flow of rap music in different languages, in particular, English and French. By statistically analyzing sonic musicalities of different rap music, we aim to discover and compare the ‘norm’ of anglophone and francophone rap. Furthermore, by analyzing stressed syllables and words, we aim to relate the English and French linguistics to our corpus-based rhythmic analysis."
   ]
  },
  {
   "cell_type": "markdown",
   "metadata": {},
   "source": [
    "## 2. Gathering the data\n",
    "The other two sections are more technical. Here you can show that you understand your data and know how to use it. You can be brief in your answers. Section 2 may be supported with (an) informative plot(s).\n",
    "\n",
    "Where do you get your data from?\n",
    "How do you get it?\n",
    "What is the maximum available amount in theory (in the case of incomplete data aquisition)?\n",
    "How much can you actually hope to lay hand on for milestone 3 on April 20th?"
   ]
  },
  {
   "cell_type": "markdown",
   "metadata": {},
   "source": [
    "how to get it : the link to the dataset, and brief explanation on the dataset. (how they chose the list)\n",
    "number of data : blah..\n"
   ]
  },
  {
   "cell_type": "markdown",
   "metadata": {},
   "source": [
    "## 3. Data format\n",
    "This section is the main reason why this milestone is to be delivered in a Jupyter notebook: Give insightful examples for every question by loading and transforming data samples.\n",
    "\n",
    "What format(s) does the raw data come in?\n",
    "How is the information that the dataset represents encoded in this format?\n",
    "Load your dataset and show examples of how you access the information that you are interested in.\n",
    "Give an overview of your dataset by plotting some basic statistics of the relevant features and/or metadata."
   ]
  },
  {
   "cell_type": "markdown",
   "metadata": {},
   "source": [
    "data format : .rap file (text file). can be imported directly into pandas table.\n",
    "explain each field : \n",
    "plotting basic statistics : # flow(rests), #phrases(break?), average # of syllables in a flow, average length of a flow\n",
    "\n",
    "encoding french dataset: xml file -> to humdrum"
   ]
  },
  {
   "cell_type": "code",
   "execution_count": null,
   "metadata": {},
   "outputs": [],
   "source": []
  }
 ],
 "metadata": {
  "kernelspec": {
   "display_name": "Python 3",
   "language": "python",
   "name": "python3"
  },
  "language_info": {
   "codemirror_mode": {
    "name": "ipython",
    "version": 3
   },
   "file_extension": ".py",
   "mimetype": "text/x-python",
   "name": "python",
   "nbconvert_exporter": "python",
   "pygments_lexer": "ipython3",
   "version": "3.7.4"
  }
 },
 "nbformat": 4,
 "nbformat_minor": 4
}
